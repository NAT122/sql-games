{
 "cells": [
  {
   "cell_type": "code",
   "execution_count": 1,
   "id": "9ef18077",
   "metadata": {},
   "outputs": [],
   "source": [
    "import pandas as pd\n",
    "import numpy as np"
   ]
  },
  {
   "cell_type": "code",
   "execution_count": 2,
   "id": "b5d5ea3a",
   "metadata": {},
   "outputs": [],
   "source": [
    "df = pd.read_csv(r'D:\\Users\\Natalia\\Desktop\\archive\\vgchartz-2024.csv')"
   ]
  },
  {
   "cell_type": "code",
   "execution_count": 5,
   "id": "5e4db5e8",
   "metadata": {},
   "outputs": [
    {
     "data": {
      "text/plain": [
       "<bound method NDFrame.head of                                   title         genre  sum(total_sales)  \\\n",
       "0                  Final Fantasy Type-0  Role-Playing              0.81   \n",
       "1  Dragon Quest Monsters: Caravan Heart  Role-Playing              0.66   \n",
       "2                Imagine: Makeup Artist    Simulation              0.29   \n",
       "3                          Tokyo Jungle        Action              0.26   \n",
       "4      Disgaea 4: A Promise Unforgotten          Misc              0.16   \n",
       "\n",
       "                developer console  critic_score  year(release_date)  \n",
       "0             Square Enix     PSP           NaN                2020  \n",
       "1                    TOSE     GBA           NaN                2020  \n",
       "2  Global A Entertainment      DS           NaN                2020  \n",
       "3   PlayStation C.A.M.P.!     PS3           NaN                2020  \n",
       "4                 Unknown     PSV           NaN                2020  >"
      ]
     },
     "execution_count": 5,
     "metadata": {},
     "output_type": "execute_result"
    }
   ],
   "source": [
    "df.head"
   ]
  },
  {
   "cell_type": "code",
   "execution_count": 7,
   "id": "d47f7511",
   "metadata": {},
   "outputs": [
    {
     "data": {
      "text/plain": [
       "<bound method DataFrame.info of                                                  img  \\\n",
       "0      /games/boxart/full_6510540AmericaFrontccc.jpg   \n",
       "1      /games/boxart/full_5563178AmericaFrontccc.jpg   \n",
       "2                        /games/boxart/827563ccc.jpg   \n",
       "3      /games/boxart/full_9218923AmericaFrontccc.jpg   \n",
       "4      /games/boxart/full_4990510AmericaFrontccc.jpg   \n",
       "...                                              ...   \n",
       "64011  /games/boxart/full_2779838AmericaFrontccc.jpg   \n",
       "64012  /games/boxart/full_8031506AmericaFrontccc.jpg   \n",
       "64013  /games/boxart/full_6553045AmericaFrontccc.jpg   \n",
       "64014    /games/boxart/full_6012940JapanFrontccc.png   \n",
       "64015                      /games/boxart/default.jpg   \n",
       "\n",
       "                                  title console         genre  \\\n",
       "0                    Grand Theft Auto V     PS3        Action   \n",
       "1                    Grand Theft Auto V     PS4        Action   \n",
       "2           Grand Theft Auto: Vice City     PS2        Action   \n",
       "3                    Grand Theft Auto V    X360        Action   \n",
       "4             Call of Duty: Black Ops 3     PS4       Shooter   \n",
       "...                                 ...     ...           ...   \n",
       "64011             XBlaze Lost: Memories      PC  Visual Novel   \n",
       "64012                      Yoru, Tomosu     PS4  Visual Novel   \n",
       "64013                      Yoru, Tomosu      NS  Visual Novel   \n",
       "64014   Yunohana SpRING! ~Mellow Times~      NS  Visual Novel   \n",
       "64015  Yurukill: The Calumniation Games     PS4  Visual Novel   \n",
       "\n",
       "                  publisher             developer  critic_score  total_sales  \\\n",
       "0            Rockstar Games        Rockstar North           9.4        20.32   \n",
       "1            Rockstar Games        Rockstar North           9.7        19.39   \n",
       "2            Rockstar Games        Rockstar North           9.6        16.15   \n",
       "3            Rockstar Games        Rockstar North           NaN        15.86   \n",
       "4                Activision              Treyarch           8.1        15.09   \n",
       "...                     ...                   ...           ...          ...   \n",
       "64011           Aksys Games      Arc System Works           NaN          NaN   \n",
       "64012  Nippon Ichi Software  Nippon Ichi Software           NaN          NaN   \n",
       "64013  Nippon Ichi Software  Nippon Ichi Software           NaN          NaN   \n",
       "64014          Idea Factory               Otomate           NaN          NaN   \n",
       "64015               Unknown            G.rev Ltd.           NaN          NaN   \n",
       "\n",
       "       na_sales  jp_sales  pal_sales  other_sales release_date last_update  \n",
       "0          6.37      0.99       9.85         3.12   2013-09-17         NaN  \n",
       "1          6.06      0.60       9.71         3.02   2014-11-18  2018-01-03  \n",
       "2          8.41      0.47       5.49         1.78   2002-10-28         NaN  \n",
       "3          9.06      0.06       5.33         1.42   2013-09-17         NaN  \n",
       "4          6.18      0.41       6.05         2.44   2015-11-06  2018-01-14  \n",
       "...         ...       ...        ...          ...          ...         ...  \n",
       "64011       NaN       NaN        NaN          NaN   2016-08-11  2019-01-28  \n",
       "64012       NaN       NaN        NaN          NaN   2020-07-30  2020-05-09  \n",
       "64013       NaN       NaN        NaN          NaN   2020-07-30  2020-05-09  \n",
       "64014       NaN       NaN        NaN          NaN   2019-02-28  2019-02-24  \n",
       "64015       NaN       NaN        NaN          NaN          NaN  2023-09-29  \n",
       "\n",
       "[64016 rows x 14 columns]>"
      ]
     },
     "execution_count": 7,
     "metadata": {},
     "output_type": "execute_result"
    }
   ],
   "source": [
    "df.info"
   ]
  },
  {
   "cell_type": "code",
   "execution_count": 3,
   "id": "7881688a",
   "metadata": {},
   "outputs": [
    {
     "data": {
      "text/plain": [
       "0        20.32\n",
       "1        19.39\n",
       "2        16.15\n",
       "3        15.86\n",
       "4        15.09\n",
       "         ...  \n",
       "64011      NaN\n",
       "64012      NaN\n",
       "64013      NaN\n",
       "64014      NaN\n",
       "64015      NaN\n",
       "Name: total_sales, Length: 64016, dtype: float64"
      ]
     },
     "execution_count": 3,
     "metadata": {},
     "output_type": "execute_result"
    }
   ],
   "source": [
    "df[ 'total_sales']"
   ]
  },
  {
   "cell_type": "code",
   "execution_count": 5,
   "id": "c868df0f",
   "metadata": {},
   "outputs": [
    {
     "data": {
      "text/plain": [
       "0        3.12\n",
       "1        3.02\n",
       "2        1.78\n",
       "3        1.42\n",
       "4        2.44\n",
       "         ... \n",
       "64011     NaN\n",
       "64012     NaN\n",
       "64013     NaN\n",
       "64014     NaN\n",
       "64015     NaN\n",
       "Name: other_sales, Length: 64016, dtype: float64"
      ]
     },
     "execution_count": 5,
     "metadata": {},
     "output_type": "execute_result"
    }
   ],
   "source": [
    "df[ 'other_sales']"
   ]
  },
  {
   "cell_type": "code",
   "execution_count": 6,
   "id": "5c46f4f0",
   "metadata": {},
   "outputs": [
    {
     "data": {
      "text/plain": [
       "0        9.4\n",
       "1        9.7\n",
       "2        9.6\n",
       "3        NaN\n",
       "4        8.1\n",
       "        ... \n",
       "64011    NaN\n",
       "64012    NaN\n",
       "64013    NaN\n",
       "64014    NaN\n",
       "64015    NaN\n",
       "Name: critic_score, Length: 64016, dtype: float64"
      ]
     },
     "execution_count": 6,
     "metadata": {},
     "output_type": "execute_result"
    }
   ],
   "source": [
    "df['critic_score']"
   ]
  },
  {
   "cell_type": "code",
   "execution_count": 3,
   "id": "fa81a13f",
   "metadata": {},
   "outputs": [],
   "source": [
    "df = df.drop(columns=['img'])\n",
    "\n",
    "# Renombrar columnas si es necesario\n",
    "df = df.rename(columns={'pal_sales': 'eu_af_sales'})"
   ]
  },
  {
   "cell_type": "code",
   "execution_count": 13,
   "id": "9ff143ff",
   "metadata": {},
   "outputs": [
    {
     "data": {
      "text/plain": [
       "Index(['title', 'console', 'genre', 'publisher', 'developer', 'critic_score',\n",
       "       'total_sales', 'na_sales', 'jp_sales', 'eu_af_sales', 'other_sales',\n",
       "       'release_date', 'last_update'],\n",
       "      dtype='object')"
      ]
     },
     "execution_count": 13,
     "metadata": {},
     "output_type": "execute_result"
    }
   ],
   "source": [
    "df.columns"
   ]
  },
  {
   "cell_type": "code",
   "execution_count": 14,
   "id": "4202da67",
   "metadata": {},
   "outputs": [
    {
     "data": {
      "text/plain": [
       "<bound method DataFrame.isnull of                                   title console         genre  \\\n",
       "0                    Grand Theft Auto V     PS3        Action   \n",
       "1                    Grand Theft Auto V     PS4        Action   \n",
       "2           Grand Theft Auto: Vice City     PS2        Action   \n",
       "3                    Grand Theft Auto V    X360        Action   \n",
       "4             Call of Duty: Black Ops 3     PS4       Shooter   \n",
       "...                                 ...     ...           ...   \n",
       "64011             XBlaze Lost: Memories      PC  Visual Novel   \n",
       "64012                      Yoru, Tomosu     PS4  Visual Novel   \n",
       "64013                      Yoru, Tomosu      NS  Visual Novel   \n",
       "64014   Yunohana SpRING! ~Mellow Times~      NS  Visual Novel   \n",
       "64015  Yurukill: The Calumniation Games     PS4  Visual Novel   \n",
       "\n",
       "                  publisher             developer  critic_score  total_sales  \\\n",
       "0            Rockstar Games        Rockstar North           9.4        20.32   \n",
       "1            Rockstar Games        Rockstar North           9.7        19.39   \n",
       "2            Rockstar Games        Rockstar North           9.6        16.15   \n",
       "3            Rockstar Games        Rockstar North           NaN        15.86   \n",
       "4                Activision              Treyarch           8.1        15.09   \n",
       "...                     ...                   ...           ...          ...   \n",
       "64011           Aksys Games      Arc System Works           NaN          NaN   \n",
       "64012  Nippon Ichi Software  Nippon Ichi Software           NaN          NaN   \n",
       "64013  Nippon Ichi Software  Nippon Ichi Software           NaN          NaN   \n",
       "64014          Idea Factory               Otomate           NaN          NaN   \n",
       "64015               Unknown            G.rev Ltd.           NaN          NaN   \n",
       "\n",
       "       na_sales  jp_sales  eu_af_sales  other_sales release_date last_update  \n",
       "0          6.37      0.99         9.85         3.12   2013-09-17         NaN  \n",
       "1          6.06      0.60         9.71         3.02   2014-11-18  2018-01-03  \n",
       "2          8.41      0.47         5.49         1.78   2002-10-28         NaN  \n",
       "3          9.06      0.06         5.33         1.42   2013-09-17         NaN  \n",
       "4          6.18      0.41         6.05         2.44   2015-11-06  2018-01-14  \n",
       "...         ...       ...          ...          ...          ...         ...  \n",
       "64011       NaN       NaN          NaN          NaN   2016-08-11  2019-01-28  \n",
       "64012       NaN       NaN          NaN          NaN   2020-07-30  2020-05-09  \n",
       "64013       NaN       NaN          NaN          NaN   2020-07-30  2020-05-09  \n",
       "64014       NaN       NaN          NaN          NaN   2019-02-28  2019-02-24  \n",
       "64015       NaN       NaN          NaN          NaN          NaN  2023-09-29  \n",
       "\n",
       "[64016 rows x 13 columns]>"
      ]
     },
     "execution_count": 14,
     "metadata": {},
     "output_type": "execute_result"
    }
   ],
   "source": [
    "df.isnull"
   ]
  },
  {
   "cell_type": "code",
   "execution_count": 4,
   "id": "dcb25e47",
   "metadata": {},
   "outputs": [],
   "source": [
    "df.to_csv(r'D:\\Users\\Natalia\\Desktop\\archive\\archivo_limpio.csv', index=False, na_rep='NULL')\n"
   ]
  }
 ],
 "metadata": {
  "kernelspec": {
   "display_name": "Python 3",
   "language": "python",
   "name": "python3"
  },
  "language_info": {
   "codemirror_mode": {
    "name": "ipython",
    "version": 3
   },
   "file_extension": ".py",
   "mimetype": "text/x-python",
   "name": "python",
   "nbconvert_exporter": "python",
   "pygments_lexer": "ipython3",
   "version": "3.11.5"
  }
 },
 "nbformat": 4,
 "nbformat_minor": 5
}
